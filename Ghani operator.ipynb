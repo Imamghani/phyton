{
 "cells": [
  {
   "cell_type": "code",
   "execution_count": 13,
   "id": "0f0a38c1-5a6a-47f3-90d0-21c839b5c18e",
   "metadata": {},
   "outputs": [
    {
     "name": "stdout",
     "output_type": "stream",
     "text": [
      "Operasi AND\n",
      "True and True \t: True\n",
      "True and False \t: False\n",
      "False and True \t: False\n",
      "False and True \t: False\n"
     ]
    }
   ],
   "source": [
    "# adalah operrator yang digunakan untuk melakukan operasi terhadap nilai True dan False\n",
    "# operator and --> operasi AND\n",
    "# oprator or --> operasi OR\n",
    "# operator not --> operasi negasi\n",
    "\n",
    "#contoh program operasi AND\n",
    "def main():\n",
    "    print('Operasi AND')\n",
    "    print('True and True \\t:', (True and True))\n",
    "    print('True and False \\t:', (True and False))\n",
    "    print('False and True \\t:', (False and True))\n",
    "    print('False and True \\t:', (True and False))\n",
    "\n",
    "if __name__=='__main__':\n",
    "          main()\n",
    "    \n",
    "    \n",
    "    "
   ]
  },
  {
   "cell_type": "code",
   "execution_count": null,
   "id": "99ba90a6-bb5a-4bdf-b8cf-4aba508c4485",
   "metadata": {},
   "outputs": [],
   "source": [
    "Operator string"
   ]
  },
  {
   "cell_type": "code",
   "execution_count": 15,
   "id": "2b52368d-3986-4fa3-80d1-69d00518550f",
   "metadata": {},
   "outputs": [
    {
     "name": "stdout",
     "output_type": "stream",
     "text": [
      "PoliteknikTakumi\n"
     ]
    }
   ],
   "source": [
    "# string dapat disambungkan dengan string lain menggunakan operator (+)\n",
    "# contoh\n",
    "str1 = 'Politeknik'\n",
    "str2 = 'Takumi'\n",
    "\n",
    "#menjalankan string\n",
    "str3 = str1 + str2\n",
    "print(str3)"
   ]
  },
  {
   "cell_type": "code",
   "execution_count": 17,
   "id": "b8f94258-8f44-454d-b7d2-a44e9c04de2a",
   "metadata": {},
   "outputs": [
    {
     "name": "stdout",
     "output_type": "stream",
     "text": [
      "bil1: 15\n",
      "bil2: 7.25\n"
     ]
    }
   ],
   "source": [
    "# jika string akan digabungkan dengan nilai numerik tersebut perlu dikonversi ke tipe str\n",
    "# contoh\n",
    "bil1 =15\n",
    "bil2 =7.25\n",
    "print('bil1: '+ str(bil1))\n",
    "print('bil2: '+ str(bil2))\n"
   ]
  },
  {
   "cell_type": "code",
   "execution_count": 19,
   "id": "ae8bbbf8-90f7-4341-923f-244ee2f756e2",
   "metadata": {},
   "outputs": [
    {
     "name": "stdout",
     "output_type": "stream",
     "text": [
      "bil1:15\n",
      "bil2: 7.25\n"
     ]
    }
   ],
   "source": [
    "# cara lain untuk menyambung nilai numerik dgn string adalah dgn membuat string terformst (formatted string)\n",
    "\n",
    "# contoh\n",
    "\n",
    "\n",
    "bil1 =15\n",
    "bil2 =7.25\n",
    "\n",
    "str1 = 'bil1:%d' % bil1\n",
    "str2 = 'bil2: %.2f' % bil2\n",
    "\n",
    "print(str1)\n",
    "print(str2)"
   ]
  },
  {
   "cell_type": "code",
   "execution_count": 21,
   "id": "3da510d3-3c88-4145-968b-8e005bc24dba",
   "metadata": {},
   "outputs": [
    {
     "name": "stdout",
     "output_type": "stream",
     "text": [
      "'Takumi'ada didalam string ghani\n"
     ]
    }
   ],
   "source": [
    "# operator \"in\" untuk memeriksa apakah karakter atau substring tertentu ada di dalam string\n",
    "# contoh\n",
    "ghani = 'Politeknik Takumi'\n",
    "if 'Takumi' in ghani :\n",
    "    print(\"'Takumi'ada didalam string ghani\")\n",
    "else:\n",
    "    print(\"'Takumi'tidak ada didalam string ghani\")"
   ]
  },
  {
   "cell_type": "code",
   "execution_count": 25,
   "id": "15b14e65-bf3a-47b1-b02a-77c5d30fba1f",
   "metadata": {},
   "outputs": [
    {
     "name": "stdout",
     "output_type": "stream",
     "text": [
      "() () () \n",
      "() () () () () () \n"
     ]
    }
   ],
   "source": [
    "# menerapkan operator\"*\"kedalam string untuk mengulang karakter\n",
    "# contoh\n",
    "karakter = '() '\n",
    "teks = karakter * 3\n",
    "print(teks)\n",
    "\n",
    "print ((teks+'')*2)"
   ]
  },
  {
   "cell_type": "code",
   "execution_count": 35,
   "id": "1419560d-6abe-40ea-952a-e938b3af50b9",
   "metadata": {},
   "outputs": [
    {
     "name": "stdout",
     "output_type": "stream",
     "text": [
      "x:\t10\n",
      "y:\t5\n",
      "\n",
      "Bitwise AND\n",
      "x & y\t:0\n",
      "\n",
      "Bitwise OR\n",
      "x | y\t:15\n",
      "\n",
      "Bitwise XOR\n",
      "x ^ y\t:15\n",
      "\n",
      "Bitwise NOT\n",
      "~x\t:-11\n",
      "~y\t:-6\n",
      "\n",
      "Bitwise Shift Left\n",
      "x<<1\t:20\n",
      "x<<1\t:20\n",
      "\n",
      "Bitwise Shift Right\n",
      "x>>1\t:5\n",
      "x>>1\t:5\n"
     ]
    }
   ],
   "source": [
    "# Operator Bitwise Bertipe Bilangan Bulat (integer)\n",
    "# Variable Pertama Akan Dikonversikan Menjadi Bentuk Biner (Basis 2)\n",
    "# Bentuk Operator:\n",
    "# 1) & \"Bitwise AND\"\n",
    "# 2) | \"Bitwise OR\"\n",
    "# 3) ^ \"Bitwise XOR\"\n",
    "# 4) ~ \"Bitwise NOT\"\n",
    "# 5) << \"Bitwise Shift Left\"\n",
    "# 6) >> \"Bitwise Shift Right\"\n",
    "\n",
    "# Contoh:\n",
    "def main():\n",
    "    x = 10\n",
    "    y = 5\n",
    "\n",
    "# Menampilkan Nilai X Dan Y\n",
    "    print('x:\\t' + str(x))\n",
    "    print('y:\\t' + str(y))\n",
    "\n",
    "    print(\"\\nBitwise AND\")\n",
    "    print(\"x & y\\t:\" + str(x & y))\n",
    "\n",
    "    print(\"\\nBitwise OR\")\n",
    "    print(\"x | y\\t:\" + str(x | y))\n",
    "\n",
    "    print(\"\\nBitwise XOR\")\n",
    "    print(\"x ^ y\\t:\" + str(x ^ y))\n",
    "\n",
    "    print(\"\\nBitwise NOT\")\n",
    "    print(\"~x\\t:\" + str(~x))\n",
    "    print(\"~y\\t:\" + str(~y))\n",
    "\n",
    "    print(\"\\nBitwise Shift Left\")\n",
    "    print(\"x<<1\\t:\" + str(x<<1))\n",
    "    print(\"x<<1\\t:\" + str(x<<1))\n",
    "\n",
    "    print(\"\\nBitwise Shift Right\")\n",
    "    print(\"x>>1\\t:\" + str(x>>1))\n",
    "    print(\"x>>1\\t:\" + str(x>>1))\n",
    "\n",
    "if __name__ == \"__main__\":\n",
    "    main()"
   ]
  },
  {
   "cell_type": "code",
   "execution_count": null,
   "id": "060dd970-8fe6-4517-8f9d-72a08a519bda",
   "metadata": {},
   "outputs": [],
   "source": []
  }
 ],
 "metadata": {
  "kernelspec": {
   "display_name": "anaconda-2022.05-py39",
   "language": "python",
   "name": "conda-env-anaconda-2022.05-py39-py"
  },
  "language_info": {
   "codemirror_mode": {
    "name": "ipython",
    "version": 3
   },
   "file_extension": ".py",
   "mimetype": "text/x-python",
   "name": "python",
   "nbconvert_exporter": "python",
   "pygments_lexer": "ipython3",
   "version": "3.9.12"
  }
 },
 "nbformat": 4,
 "nbformat_minor": 5
}
